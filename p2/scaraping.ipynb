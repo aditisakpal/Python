{
 "cells": [
  {
   "cell_type": "code",
   "execution_count": 29,
   "metadata": {},
   "outputs": [],
   "source": [
    "import requests\n",
    "from bs4 import BeautifulSoup\n",
    "import pandas as pd\n",
    "import matplotlib.pyplot as plt\n",
    "import sqlite3\n",
    "import re"
   ]
  },
  {
   "cell_type": "code",
   "execution_count": 30,
   "metadata": {},
   "outputs": [],
   "source": [
    "url=\"https://en.wikipedia.org/wiki/List_of_Formula_One_World_Drivers%27_Champions\""
   ]
  },
  {
   "cell_type": "code",
   "execution_count": 31,
   "metadata": {},
   "outputs": [],
   "source": [
    "try:\n",
    "    response = requests.get(url,headers={\"User-Agent\":\"Mozilla/5.0\"})\n",
    "    response.raise_for_status()\n",
    "except requests.exceptions.RequestException as err:\n",
    "    print(\"Error fetching the website:\",err)\n",
    "    exit()"
   ]
  },
  {
   "cell_type": "code",
   "execution_count": 32,
   "metadata": {},
   "outputs": [],
   "source": [
    "soup=BeautifulSoup(response.text,\"html.parser\")"
   ]
  },
  {
   "cell_type": "code",
   "execution_count": 33,
   "metadata": {},
   "outputs": [],
   "source": [
    "tables=soup.find_all(\"table\",{\"class\":\"wikitable\"})"
   ]
  },
  {
   "cell_type": "code",
   "execution_count": 34,
   "metadata": {},
   "outputs": [
    {
     "name": "stdout",
     "output_type": "stream",
     "text": [
      "Table 0 headers: ['Bold']\n",
      "Table 1 headers: ['Season', 'Driver', 'Age', 'Constructor', 'Tyres', 'Poles', 'Wins', 'Podiums', 'Fastest laps', 'Points', '% Points', 'Clinched[17]', '# of roundsremaining', 'Margin', '% Margin', 'Chassis', 'Engine', 'Season', 'Driver', 'Age', 'Chassis', 'Engine', 'Tyres', 'Poles', 'Wins', 'Podiums', 'Fastest laps', 'Points', '% Points', 'Clinched', '# of roundsremaining', 'Margin', '% Margin', 'Constructor']\n",
      "Table 2 headers: ['Driver', 'Titles', 'Season(s)', '34 drivers', '', '75 titles']\n",
      "Table 3 headers: ['Country', 'Titles', 'Drivers', 'Seasons', 'By driver (titles)', '15 countries', '75 titles', '34 drivers', '', '']\n",
      "Table 4 headers: ['', 'Driver', 'Age', 'Season', '1', '2', '3', '4', '5', '6', '7', '8', '9', '10']\n",
      "Table 5 headers: ['', 'Driver', 'Age', 'Season', '1', '2', '3', '4', '5', '6', '7', '8', '9', '10']\n",
      "Table 6 headers: ['Championships', 'Driver', 'Seasons', '5', '4', '2']\n",
      "Table 7 headers: ['Championships', 'Drivers[a]', 'Years', '2', '1']\n",
      "Table 8 headers: ['Constructor', 'Titles', 'Season(s)', '16 constructors', '75 titles[a]', '']\n",
      "Table 9 headers: ['Manufacturer', 'Titles', 'Season(s)', '14 manufacturers', '75 titles[b]', '']\n",
      "Table 10 headers: ['Rank', 'Manufacturer', 'Titles', 'Seasons', '1', '2', '3', '4', '5', '6', '7']\n"
     ]
    }
   ],
   "source": [
    "for i, table in enumerate(tables):\n",
    "    headers = [header.text.strip() for header in table.find_all(\"th\")]\n",
    "    print(f\"Table {i} headers: {headers}\")"
   ]
  },
  {
   "cell_type": "code",
   "execution_count": 35,
   "metadata": {},
   "outputs": [],
   "source": [
    "if len(tables) < 1:\n",
    "    print(\"No table\")\n",
    "    exit()"
   ]
  },
  {
   "cell_type": "code",
   "execution_count": 36,
   "metadata": {},
   "outputs": [],
   "source": [
    "champions_table = None\n",
    "for table in tables:\n",
    "    headers = [header.text.strip() for header in table.find_all(\"th\")]\n",
    "    if \"Season\" in headers and \"Driver\" in headers:\n",
    "        champions_table=table\n",
    "        break"
   ]
  },
  {
   "cell_type": "code",
   "execution_count": 37,
   "metadata": {},
   "outputs": [],
   "source": [
    "if not champions_table:\n",
    "    print(\"Could not find champions table\")\n",
    "    exit()"
   ]
  },
  {
   "cell_type": "code",
   "execution_count": 38,
   "metadata": {},
   "outputs": [
    {
     "name": "stdout",
     "output_type": "stream",
     "text": [
      "Extracted headers: ['Season', 'Driver', 'Age', 'Constructor', 'Tyres', 'Poles', 'Wins', 'Podiums', 'Fastest_laps', 'Points', '__Points', 'Clinched_17_', '__of_roundsremaining', 'Margin', '__Margin', 'Chassis', 'Engine', 'Season', 'Driver', 'Age', 'Chassis', 'Engine', 'Tyres', 'Poles', 'Wins', 'Podiums', 'Fastest_laps', 'Points', '__Points', 'Clinched', '__of_roundsremaining', 'Margin', '__Margin', 'Constructor']\n"
     ]
    }
   ],
   "source": [
    "headers = [header.text.strip() for header in champions_table.find_all(\"th\")]\n",
    "headers = [re.sub(r\"[^a-zA-Z0-9]\",\"_\",col) for col in headers]\n",
    "print(\"Extracted headers:\",headers)"
   ]
  },
  {
   "cell_type": "code",
   "execution_count": 39,
   "metadata": {},
   "outputs": [],
   "source": [
    "data=[]\n",
    "for row in champions_table.find_all(\"tr\")[1:]:\n",
    "    cols=row.find_all(\"td\")\n",
    "    cols=[ele.text.strip() for ele in cols]\n",
    "    if cols:\n",
    "        data.append(cols)"
   ]
  },
  {
   "cell_type": "code",
   "execution_count": 40,
   "metadata": {},
   "outputs": [
    {
     "name": "stdout",
     "output_type": "stream",
     "text": [
      "Row Length: 16 Data: ['1950', 'Giuseppe Farina[21]', '44', 'Alfa Romeo', 'Alfa Romeo', 'P', '2', '3', '3', '3', '30', '83.333 (47.619)', 'Round 7 of 7', '0', '3', '10.000']\n",
      "Row Length: 16 Data: ['1951', 'Juan Manuel Fangio[22]', '40', 'Alfa Romeo', 'Alfa Romeo', 'P', '4', '3', '5', '5', '31', '86.111 (51.389)', 'Round 8 of 8', '0', '6', '19.355']\n",
      "Row Length: 16 Data: ['1952[a]', 'Alberto Ascari[24]', '34', 'Ferrari', 'Ferrari', 'F P', '5', '6', '6', '6', '36', '100.000 (74.306)', 'Round 6 of 8', '2', '12', '33.333']\n",
      "Row Length: 16 Data: ['1953[a]', 'Alberto Ascari[24]', '35', 'Ferrari', 'Ferrari', 'P', '6', '5', '5', '4', '34.5', '95.833 (57.407)', 'Round 8 of 9', '1', '6.5', '18.841']\n",
      "Row Length: 16 Data: ['1954', 'Juan Manuel Fangio[22]', '43', 'Maserati[b]', 'Maserati', 'P', '5', '6', '7', '3', '42', '93.333 (70.547)', 'Round 7 of 9', '2', '16.857', '40.136']\n"
     ]
    }
   ],
   "source": [
    "for row in data[:5]:\n",
    "    print(\"Row Length:\",len(row),\"Data:\",row)"
   ]
  },
  {
   "cell_type": "code",
   "execution_count": 41,
   "metadata": {},
   "outputs": [],
   "source": [
    "df=pd.DataFrame(data,columns=headers[:len(data[0])])"
   ]
  },
  {
   "cell_type": "code",
   "execution_count": 42,
   "metadata": {},
   "outputs": [],
   "source": [
    "df.to_csv(\"f1_world_champions.csv\",index=False)"
   ]
  },
  {
   "cell_type": "code",
   "execution_count": 43,
   "metadata": {},
   "outputs": [],
   "source": [
    "conn=sqlite3.connect(\"f1_champions.db\")\n",
    "cursor=conn.cursor()"
   ]
  },
  {
   "cell_type": "code",
   "execution_count": 44,
   "metadata": {},
   "outputs": [
    {
     "data": {
      "text/plain": [
       "<sqlite3.Cursor at 0x2a3f2787e40>"
      ]
     },
     "execution_count": 44,
     "metadata": {},
     "output_type": "execute_result"
    }
   ],
   "source": [
    "columns_sql=\", \".join([f'\"{col}\" TEXT' for col in df.columns])\n",
    "cursor.execute(f'''CREATE TABLE IF NOT EXISTS champions ({columns_sql})''')"
   ]
  },
  {
   "cell_type": "code",
   "execution_count": 45,
   "metadata": {},
   "outputs": [],
   "source": [
    "df.to_sql(\"champions\", conn, if_exists=\"replace\", index=False)\n",
    "conn.commit()"
   ]
  },
  {
   "cell_type": "code",
   "execution_count": 46,
   "metadata": {},
   "outputs": [],
   "source": [
    "query= \"SELECT * FROM champions\"\n",
    "df_sql = pd.read_sql(query,conn)\n",
    "conn.close()"
   ]
  },
  {
   "cell_type": "code",
   "execution_count": 47,
   "metadata": {},
   "outputs": [
    {
     "name": "stdout",
     "output_type": "stream",
     "text": [
      "Data retrieved from SQLite database:\n",
      "    Season                  Driver Age  Constructor       Tyres Poles Wins  \\\n",
      "0     1950     Giuseppe Farina[21]  44   Alfa Romeo  Alfa Romeo     P    2   \n",
      "1     1951  Juan Manuel Fangio[22]  40   Alfa Romeo  Alfa Romeo     P    4   \n",
      "2  1952[a]      Alberto Ascari[24]  34      Ferrari     Ferrari   F P    5   \n",
      "3  1953[a]      Alberto Ascari[24]  35      Ferrari     Ferrari     P    6   \n",
      "4     1954  Juan Manuel Fangio[22]  43  Maserati[b]    Maserati     P    5   \n",
      "\n",
      "  Podiums Fastest_laps Points __Points      Clinched_17_ __of_roundsremaining  \\\n",
      "0       3            3      3       30   83.333 (47.619)         Round 7 of 7   \n",
      "1       3            5      5       31   86.111 (51.389)         Round 8 of 8   \n",
      "2       6            6      6       36  100.000 (74.306)         Round 6 of 8   \n",
      "3       5            5      4     34.5   95.833 (57.407)         Round 8 of 9   \n",
      "4       6            7      3       42   93.333 (70.547)         Round 7 of 9   \n",
      "\n",
      "  Margin __Margin Chassis  \n",
      "0      0        3  10.000  \n",
      "1      0        6  19.355  \n",
      "2      2       12  33.333  \n",
      "3      1      6.5  18.841  \n",
      "4      2   16.857  40.136  \n"
     ]
    }
   ],
   "source": [
    "print(\"Data retrieved from SQLite database:\")\n",
    "print(df_sql.head())"
   ]
  },
  {
   "cell_type": "code",
   "execution_count": 51,
   "metadata": {},
   "outputs": [
    {
     "data": {
      "image/png": "[encoded data removed]",
      "text/plain": [
       "<Figure size 1200x600 with 1 Axes>"
      ]
     },
     "metadata": {},
     "output_type": "display_data"
    },
    {
     "data": {
      "text/html": [
       "<div>\n",
       "<style scoped>\n",
       "    .dataframe tbody tr th:only-of-type {\n",
       "        vertical-align: middle;\n",
       "    }\n",
       "\n",
       "    .dataframe tbody tr th {\n",
       "        vertical-align: top;\n",
       "    }\n",
       "\n",
       "    .dataframe thead th {\n",
       "        text-align: right;\n",
       "    }\n",
       "</style>\n",
       "<table border=\"1\" class=\"dataframe\">\n",
       "  <thead>\n",
       "    <tr style=\"text-align: right;\">\n",
       "      <th></th>\n",
       "      <th>Season</th>\n",
       "      <th>Driver</th>\n",
       "      <th>Age</th>\n",
       "      <th>Constructor</th>\n",
       "      <th>Tyres</th>\n",
       "      <th>Poles</th>\n",
       "      <th>Wins</th>\n",
       "      <th>Podiums</th>\n",
       "      <th>Fastest_laps</th>\n",
       "      <th>Points</th>\n",
       "      <th>__Points</th>\n",
       "      <th>Clinched_17_</th>\n",
       "      <th>__of_roundsremaining</th>\n",
       "      <th>Margin</th>\n",
       "      <th>__Margin</th>\n",
       "      <th>Chassis</th>\n",
       "    </tr>\n",
       "  </thead>\n",
       "  <tbody>\n",
       "    <tr>\n",
       "      <th>0</th>\n",
       "      <td>1950</td>\n",
       "      <td>Giuseppe Farina[21]</td>\n",
       "      <td>44</td>\n",
       "      <td>Alfa Romeo</td>\n",
       "      <td>Alfa Romeo</td>\n",
       "      <td>P</td>\n",
       "      <td>2</td>\n",
       "      <td>3</td>\n",
       "      <td>3</td>\n",
       "      <td>3</td>\n",
       "      <td>30</td>\n",
       "      <td>83.333 (47.619)</td>\n",
       "      <td>Round 7 of 7</td>\n",
       "      <td>0</td>\n",
       "      <td>3</td>\n",
       "      <td>10.000</td>\n",
       "    </tr>\n",
       "    <tr>\n",
       "      <th>1</th>\n",
       "      <td>1951</td>\n",
       "      <td>Juan Manuel Fangio[22]</td>\n",
       "      <td>40</td>\n",
       "      <td>Alfa Romeo</td>\n",
       "      <td>Alfa Romeo</td>\n",
       "      <td>P</td>\n",
       "      <td>4</td>\n",
       "      <td>3</td>\n",
       "      <td>5</td>\n",
       "      <td>5</td>\n",
       "      <td>31</td>\n",
       "      <td>86.111 (51.389)</td>\n",
       "      <td>Round 8 of 8</td>\n",
       "      <td>0</td>\n",
       "      <td>6</td>\n",
       "      <td>19.355</td>\n",
       "    </tr>\n",
       "    <tr>\n",
       "      <th>2</th>\n",
       "      <td>1952[a]</td>\n",
       "      <td>Alberto Ascari[24]</td>\n",
       "      <td>34</td>\n",
       "      <td>Ferrari</td>\n",
       "      <td>Ferrari</td>\n",
       "      <td>F P</td>\n",
       "      <td>5</td>\n",
       "      <td>6</td>\n",
       "      <td>6</td>\n",
       "      <td>6</td>\n",
       "      <td>36</td>\n",
       "      <td>100.000 (74.306)</td>\n",
       "      <td>Round 6 of 8</td>\n",
       "      <td>2</td>\n",
       "      <td>12</td>\n",
       "      <td>33.333</td>\n",
       "    </tr>\n",
       "    <tr>\n",
       "      <th>3</th>\n",
       "      <td>1953[a]</td>\n",
       "      <td>Alberto Ascari[24]</td>\n",
       "      <td>35</td>\n",
       "      <td>Ferrari</td>\n",
       "      <td>Ferrari</td>\n",
       "      <td>P</td>\n",
       "      <td>6</td>\n",
       "      <td>5</td>\n",
       "      <td>5</td>\n",
       "      <td>4</td>\n",
       "      <td>34.5</td>\n",
       "      <td>95.833 (57.407)</td>\n",
       "      <td>Round 8 of 9</td>\n",
       "      <td>1</td>\n",
       "      <td>6.5</td>\n",
       "      <td>18.841</td>\n",
       "    </tr>\n",
       "    <tr>\n",
       "      <th>4</th>\n",
       "      <td>1954</td>\n",
       "      <td>Juan Manuel Fangio[22]</td>\n",
       "      <td>43</td>\n",
       "      <td>Maserati[b]</td>\n",
       "      <td>Maserati</td>\n",
       "      <td>P</td>\n",
       "      <td>5</td>\n",
       "      <td>6</td>\n",
       "      <td>7</td>\n",
       "      <td>3</td>\n",
       "      <td>42</td>\n",
       "      <td>93.333 (70.547)</td>\n",
       "      <td>Round 7 of 9</td>\n",
       "      <td>2</td>\n",
       "      <td>16.857</td>\n",
       "      <td>40.136</td>\n",
       "    </tr>\n",
       "  </tbody>\n",
       "</table>\n",
       "</div>"
      ],
      "text/plain": [
       "    Season                  Driver Age  Constructor       Tyres Poles Wins  \\\n",
       "0     1950     Giuseppe Farina[21]  44   Alfa Romeo  Alfa Romeo     P    2   \n",
       "1     1951  Juan Manuel Fangio[22]  40   Alfa Romeo  Alfa Romeo     P    4   \n",
       "2  1952[a]      Alberto Ascari[24]  34      Ferrari     Ferrari   F P    5   \n",
       "3  1953[a]      Alberto Ascari[24]  35      Ferrari     Ferrari     P    6   \n",
       "4     1954  Juan Manuel Fangio[22]  43  Maserati[b]    Maserati     P    5   \n",
       "\n",
       "  Podiums Fastest_laps Points __Points      Clinched_17_ __of_roundsremaining  \\\n",
       "0       3            3      3       30   83.333 (47.619)         Round 7 of 7   \n",
       "1       3            5      5       31   86.111 (51.389)         Round 8 of 8   \n",
       "2       6            6      6       36  100.000 (74.306)         Round 6 of 8   \n",
       "3       5            5      4     34.5   95.833 (57.407)         Round 8 of 9   \n",
       "4       6            7      3       42   93.333 (70.547)         Round 7 of 9   \n",
       "\n",
       "  Margin __Margin Chassis  \n",
       "0      0        3  10.000  \n",
       "1      0        6  19.355  \n",
       "2      2       12  33.333  \n",
       "3      1      6.5  18.841  \n",
       "4      2   16.857  40.136  "
      ]
     },
     "execution_count": 51,
     "metadata": {},
     "output_type": "execute_result"
    }
   ],
   "source": [
    "plt.figure(figsize=(12,6))\n",
    "df[\"Season\"] = df[\"Season\"].astype(str)\n",
    "if \"Wins\" in df.columns:\n",
    "    plt.bar(df[\"Season\"],pd.to_numeric(df[\"Wins\"],errors='coerce').fillna(0), color=\"royalblue\")\n",
    "    plt.xlabel(\"Season\")\n",
    "    plt.ylabel(\"Wins\")\n",
    "    plt.title(\"Number of Wins by F1 champions per season\")\n",
    "    plt.xticks(rotation=90)\n",
    "    plt.show()\n",
    "df.head()"
   ]
  },
  {
   "cell_type": "code",
   "execution_count": null,
   "metadata": {},
   "outputs": [],
   "source": []
  }
 ],
 "metadata": {
  "kernelspec": {
   "display_name": "Python 3",
   "language": "python",
   "name": "python3"
  },
  "language_info": {
   "codemirror_mode": {
    "name": "ipython",
    "version": 3
   },
   "file_extension": ".py",
   "mimetype": "text/x-python",
   "name": "python",
   "nbconvert_exporter": "python",
   "pygments_lexer": "ipython3",
   "version": "3.13.2"
  }
 },
 "nbformat": 4,
 "nbformat_minor": 2
}
